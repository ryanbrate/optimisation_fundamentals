{
 "cells": [
  {
   "cell_type": "code",
   "execution_count": 4,
   "metadata": {},
   "outputs": [
    {
     "data": {
      "application/javascript": [
       "\n",
       "IPython.keyboard_manager.command_shortcuts.add_shortcut('g', {\n",
       "    handler : function (event) {\n",
       "        var input = IPython.notebook.get_selected_cell().get_text();\n",
       "        var cmd = \"f = open('.toto.py', 'w');f.close()\";\n",
       "        if (input != \"\") {\n",
       "            cmd = '%%writefile .toto.py\\n' + input;\n",
       "        }\n",
       "        IPython.notebook.kernel.execute(cmd);\n",
       "        cmd = \"import os;os.system('gvim .toto.py')\";\n",
       "        IPython.notebook.kernel.execute(cmd);\n",
       "        return false;\n",
       "    }}\n",
       ");\n",
       "\n",
       "IPython.keyboard_manager.command_shortcuts.add_shortcut('u', {\n",
       "    handler : function (event) {\n",
       "        function handle_output(msg) {\n",
       "            var ret = msg.content.text;\n",
       "            IPython.notebook.get_selected_cell().set_text(ret);\n",
       "        }\n",
       "        var callback = {'output': handle_output};\n",
       "        var cmd = \"f = open('.toto.py', 'r');print(f.read())\";\n",
       "        IPython.notebook.kernel.execute(cmd, {iopub: callback}, {silent: false});\n",
       "        return false;\n",
       "    }}\n",
       ");\n",
       "        "
      ],
      "text/plain": [
       "<IPython.core.display.Javascript object>"
      ]
     },
     "metadata": {},
     "output_type": "display_data"
    },
    {
     "name": "stdout",
     "output_type": "stream",
     "text": [
      "Cell contents can now be edited via Gvim. From command mode use 'g' to open current cell contents in Gvim. After ':wq' from Gvim, use 'u' in command mode to update cell contents.\n"
     ]
    }
   ],
   "source": [
    "%gvim"
   ]
  },
  {
   "cell_type": "code",
   "execution_count": 6,
   "metadata": {},
   "outputs": [],
   "source": [
    "from scipy.optimize import linprog\n",
    "from pulp import *\n",
    "from functools import reduce"
   ]
  },
  {
   "cell_type": "markdown",
   "metadata": {},
   "source": [
    "# linear optimisation with pulp"
   ]
  },
  {
   "cell_type": "markdown",
   "metadata": {},
   "source": [
    "serves as a useful template for any LO problem"
   ]
  },
  {
   "cell_type": "code",
   "execution_count": 29,
   "metadata": {},
   "outputs": [
    {
     "name": "stdout",
     "output_type": "stream",
     "text": [
      "example:\n",
      "MAXIMIZE\n",
      "2*x + 3*y + 0\n",
      "SUBJECT TO\n",
      "_C1: x <= 5\n",
      "\n",
      "_C2: y <= 5\n",
      "\n",
      "_C3: x + 2 y <= 10\n",
      "\n",
      "VARIABLES\n",
      "0 <= x Integer\n",
      "0 <= y Integer\n",
      "\n",
      "status: 1, Optimal\n",
      "objective: 17.0\n",
      "x: 4.0\n",
      "y: 3.0\n"
     ]
    }
   ],
   "source": [
    "# create the model\n",
    "model = LpProblem(name=\"example\", sense=LpMaximize)\n",
    "\n",
    "# Initialize the decision variables\n",
    "x = LpVariable(name=\"x\", lowBound=0, cat=LpInteger) \n",
    "y = LpVariable(name=\"y\", lowBound=0, cat=LpInteger)\n",
    "\n",
    "# constraints\n",
    "model += (x <= 5)  # where x, y are numbers of projects\n",
    "model += (y <= 5)\n",
    "model += (x + 2*y <= 10)\n",
    "\n",
    "# objectives\n",
    "model += 2*x + 3*y # add the objective function last\n",
    "\n",
    "print(model)\n",
    "\n",
    "# solve\n",
    "model.solve()\n",
    "print(f\"status: {model.status}, {LpStatus[model.status]}\")\n",
    "print(f\"objective: {model.objective.value()}\")\n",
    "for var in model.variables():\n",
    "    print(f\"{var.name}: {var.value()}\")\n",
    "# for name, constraint in model.constraints.items():\n",
    "#     print(f\"{name}: {constraint.value()}\")"
   ]
  },
  {
   "cell_type": "markdown",
   "metadata": {},
   "source": [
    "# Converting non-linear problems to linear and solving"
   ]
  },
  {
   "cell_type": "markdown",
   "metadata": {},
   "source": [
    "## i.e., step changes in the optimiation function\n",
    "\n",
    "e.g.,\n",
    "first 8 of product 1 make a 2.5 euro profit\n",
    "\n",
    "profit = 2.5x + 3y - 0.5*max(0, x-8)\n",
    "\n",
    "### non-linear equivilent:\n",
    "\n",
    "profit = 2.5x + 3y - 0.5z\n",
    "\n",
    "### Additional constraints\n",
    "z >= x-8 (or rather x-z <= 8) , and z>= 0"
   ]
  },
  {
   "cell_type": "code",
   "execution_count": 32,
   "metadata": {},
   "outputs": [
    {
     "name": "stdout",
     "output_type": "stream",
     "text": [
      "example:\n",
      "MAXIMIZE\n",
      "2.5*x + 3*y + -0.5*z + 0.0\n",
      "SUBJECT TO\n",
      "_C1: x <= 5\n",
      "\n",
      "_C2: y <= 5\n",
      "\n",
      "_C3: x + 2 y <= 10\n",
      "\n",
      "_C4: 0 z >= -8\n",
      "\n",
      "VARIABLES\n",
      "0 <= x Integer\n",
      "0 <= y Integer\n",
      "z Continuous\n",
      "\n",
      "status: 1, Optimal\n",
      "objective: 19.0\n",
      "x: 4.0\n",
      "y: 3.0\n",
      "z: 0.0\n"
     ]
    }
   ],
   "source": [
    "# create the model\n",
    "model = LpProblem(name=\"example\", sense=LpMaximize)\n",
    "\n",
    "# Initialize the decision variables\n",
    "x = LpVariable(name=\"x\", lowBound=0, cat=LpInteger) # ensure optimised to integer\n",
    "y = LpVariable(name=\"y\", lowBound=0, cat=LpInteger)\n",
    "z = LpVariable(name=\"z\", lowBound=0)\n",
    "\n",
    "# constraints\n",
    "model += (x <= 5)\n",
    "model += (y <= 5)\n",
    "model += (x + 2*y <= 10)\n",
    "model += (z >= z-8)\n",
    "\n",
    "# objectives\n",
    "model += 2.5*x + 3*y - 0.5*z# add the objective function last\n",
    "\n",
    "print(model)\n",
    "\n",
    "# solve\n",
    "model.solve()\n",
    "print(f\"status: {model.status}, {LpStatus[model.status]}\")\n",
    "print(f\"objective: {model.objective.value()}\")\n",
    "for var in model.variables():\n",
    "    print(f\"{var.name}: {var.value()}\")\n",
    "# for name, constraint in model.constraints.items():\n",
    "#     print(f\"{name}: {constraint.value()}\")"
   ]
  },
  {
   "cell_type": "markdown",
   "metadata": {},
   "source": [
    "# Project planning using L0 (with pulp)"
   ]
  },
  {
   "cell_type": "code",
   "execution_count": 41,
   "metadata": {},
   "outputs": [
    {
     "name": "stdout",
     "output_type": "stream",
     "text": [
      "planning:\n",
      "MINIMIZE\n",
      "1*e + 2\n",
      "SUBJECT TO\n",
      "_C1: - a + b >= 2\n",
      "\n",
      "_C2: - a + c >= 2\n",
      "\n",
      "_C3: - c + d >= 2\n",
      "\n",
      "_C4: - b + e >= 3\n",
      "\n",
      "_C5: - d + e >= 1\n",
      "\n",
      "_C6: - c + g >= 2\n",
      "\n",
      "_C7: - f + g >= 3\n",
      "\n",
      "_C8: e - g >= 2\n",
      "\n",
      "VARIABLES\n",
      "0 <= a Integer\n",
      "0 <= b Integer\n",
      "0 <= c Integer\n",
      "0 <= d Integer\n",
      "0 <= e Integer\n",
      "0 <= f Integer\n",
      "0 <= g Integer\n",
      "\n",
      "status: 1, Optimal\n",
      "objective: 8.0\n",
      "a: 0.0\n",
      "b: 2.0\n",
      "c: 2.0\n",
      "d: 4.0\n",
      "e: 6.0\n",
      "f: 0.0\n",
      "g: 4.0\n"
     ]
    }
   ],
   "source": [
    "# create the model\n",
    "model = LpProblem(name=\"planning\", sense=LpMinimize)\n",
    "\n",
    "# task start times\n",
    "a = LpVariable(name=\"a\", lowBound=0, cat=LpInteger) \n",
    "b = LpVariable(name=\"b\", lowBound=0, cat=LpInteger)\n",
    "c = LpVariable(name=\"c\", lowBound=0, cat=LpInteger)\n",
    "d = LpVariable(name=\"d\", lowBound=0, cat=LpInteger)\n",
    "e = LpVariable(name=\"e\", lowBound=0, cat=LpInteger)\n",
    "f = LpVariable(name=\"f\", lowBound=0, cat=LpInteger)\n",
    "g = LpVariable(name=\"g\", lowBound=0, cat=LpInteger)\n",
    "\n",
    "# constraints\n",
    "model += (b >= a + 2)\n",
    "model += (c >= a + 2)\n",
    "model += (d >= c + 2)\n",
    "model += (e >= b + 3)\n",
    "model += (e >= d + 1)\n",
    "model += (g >= c + 2)\n",
    "model += (g >= f + 3)\n",
    "model += (e >= g + 2)\n",
    "\n",
    "# object function (finish time to be minimised)\n",
    "model += e + 2\n",
    "\n",
    "print(model)\n",
    "\n",
    "# solve\n",
    "model.solve()\n",
    "print(f\"status: {model.status}, {LpStatus[model.status]}\")\n",
    "print(f\"objective: {model.objective.value()}\")\n",
    "for var in model.variables():\n",
    "    print(f\"{var.name}: {var.value()}\")\n",
    "# for name, constraint in model.constraints.items():\n",
    "#     print(f\"{name}: {constraint.value()}\")"
   ]
  },
  {
   "cell_type": "markdown",
   "metadata": {},
   "source": [
    "# knapsack problem"
   ]
  },
  {
   "cell_type": "code",
   "execution_count": 10,
   "metadata": {},
   "outputs": [
    {
     "name": "stdout",
     "output_type": "stream",
     "text": [
      "knapsack:\n",
      "MAXIMIZE\n",
      "60*item1 + 60*item2 + 40*item3 + 10*item4 + 20*item5 + 10*item6 + 3*item7 + 0\n",
      "SUBJECT TO\n",
      "_C1: 3 item1 + 5 item2 + 4 item3 + 1.4 item4 + 3 item5 + 3 item6 + item7 <= 11\n",
      "\n",
      "VARIABLES\n",
      "0 <= item1 <= 1 Integer\n",
      "0 <= item2 <= 1 Integer\n",
      "0 <= item3 <= 1 Integer\n",
      "0 <= item4 <= 1 Integer\n",
      "0 <= item5 <= 1 Integer\n",
      "0 <= item6 <= 1 Integer\n",
      "0 <= item7 <= 1 Integer\n",
      "\n",
      "status: 1, Optimal\n",
      "objective: 140.0\n",
      "item1: 1.0\n",
      "item2: 1.0\n",
      "item3: 0.0\n",
      "item4: 0.0\n",
      "item5: 1.0\n",
      "item6: 0.0\n",
      "item7: 0.0\n"
     ]
    }
   ],
   "source": [
    "from pulp import *\n",
    "\n",
    "# create the model\n",
    "model = LpProblem(name=\"knapsack\", sense=LpMaximize)\n",
    "\n",
    "# Initialize the decision variables\n",
    "items = []\n",
    "for item in range(1, 8):\n",
    "    items.append(LpVariable(name=f\"item{item}\", lowBound=0, cat=LpBinary))\n",
    "\n",
    "# sizes\n",
    "sizes = [3, 5, 4, 1.4, 3, 3, 1]\n",
    "\n",
    "# reward\n",
    "rewards = [60, 60, 40, 10, 20, 10, 3]\n",
    "\n",
    "# constraints\n",
    "model += sum([item * size for item, size in zip(items, sizes)]) <= 11\n",
    "\n",
    "# objectives\n",
    "model += sum([item * reward for item, reward in zip(items, rewards)])\n",
    "\n",
    "print(model)\n",
    "\n",
    "# solve\n",
    "model.solve()\n",
    "print(f\"status: {model.status}, {LpStatus[model.status]}\")\n",
    "print(f\"objective: {model.objective.value()}\")\n",
    "for var in model.variables():\n",
    "    print(f\"{var.name}: {var.value()}\")\n",
    "# for name, constraint in model.constraints.items():\n",
    "#     print(f\"{name}: {constraint.value()}\")\n",
    "\n",
    "\n"
   ]
  },
  {
   "cell_type": "markdown",
   "metadata": {},
   "source": [
    "# Robust Regression (multivariate)"
   ]
  },
  {
   "cell_type": "code",
   "execution_count": 76,
   "metadata": {},
   "outputs": [
    {
     "name": "stdout",
     "output_type": "stream",
     "text": [
      "robust_regression:\n",
      "MINIMIZE\n",
      "1*e0_neg + 1*e0_pos + 1*e1_neg + 1*e1_pos + 1*e2_neg + 1*e2_pos + 0\n",
      "SUBJECT TO\n",
      "_C1: c + e0_neg + e0_pos + m0 = 3\n",
      "\n",
      "_C2: c + e1_neg + e1_pos + 5 m0 = 4\n",
      "\n",
      "_C3: c + e2_neg + e2_pos + 8 m0 = 0\n",
      "\n",
      "VARIABLES\n",
      "c free Continuous\n",
      "e0_neg Continuous\n",
      "e0_pos Continuous\n",
      "e1_neg Continuous\n",
      "e1_pos Continuous\n",
      "e2_neg Continuous\n",
      "e2_pos Continuous\n",
      "m0 free Continuous\n",
      "\n",
      "status: 1, Optimal\n",
      "objective: 2.7142857\n",
      "c: 3.4285714\n",
      "e0_neg: 0.0\n",
      "e0_pos: 0.0\n",
      "e1_neg: 2.7142857\n",
      "e1_pos: 0.0\n",
      "e2_neg: 0.0\n",
      "e2_pos: 0.0\n",
      "m0: -0.42857143\n"
     ]
    }
   ],
   "source": [
    "import numpy as np\n",
    "\n",
    "# data points\n",
    "features = np.array([[1],  \n",
    "                     [5],\n",
    "                     [8]])\n",
    "\n",
    "targets = np.array([[3],\n",
    "                    [4],\n",
    "                    [0]])\n",
    "\n",
    "# create the model\n",
    "model = LpProblem(name=\"robust regression\", sense=LpMinimize)\n",
    "\n",
    "# initialise gradients, store in column vector\n",
    "weights = []\n",
    "num_features = features.shape[1]\n",
    "for i, feature in enumerate(range(num_features)):\n",
    "    weights.append(LpVariable(name=f\"m{i}\"))\n",
    "weights = np.array(weights, ndmin=2) # [f x 1]\n",
    "\n",
    "# initialise the y-intercept\n",
    "c = LpVariable(name=\"c\")  # scalar\n",
    "\n",
    "# initialise the error variables, store as list of tuples\n",
    "errors = []  # [(e1+, e1-),...]\n",
    "for i, y in enumerate(targets):\n",
    "    errors.append(\n",
    "        (\n",
    "            LpVariable(name=f\"e{i}_pos\", lowBound=0),\n",
    "            LpVariable(name=f\"e{i}_neg\", lowBound=0) \n",
    "        )\n",
    "    )\n",
    "\n",
    "# add constraints to model\n",
    "preds = np.matmul(features, weights) + c # [data x f][f x 1]\n",
    "for i, pred in enumerate(preds):\n",
    "    target = targets[i,0]\n",
    "    pos, neg = errors[i]\n",
    "    model += (pos + neg == target - pred)\n",
    "\n",
    "# object function (finish time to be minimised)\n",
    "model += (sum([e[0] + e[1] for e in errors]))\n",
    "\n",
    "print(model)\n",
    "\n",
    "# solve\n",
    "model.solve()\n",
    "print(f\"status: {model.status}, {LpStatus[model.status]}\")\n",
    "print(f\"objective: {model.objective.value()}\")\n",
    "for var in model.variables():\n",
    "    print(f\"{var.name}: {var.value()}\")\n",
    "# for name, constraint in model.constraints.items():\n",
    "#     print(f\"{name}: {constraint.value()}\")"
   ]
  },
  {
   "cell_type": "markdown",
   "metadata": {},
   "source": [
    "Note: check via direct matrix solution\n",
    "\n",
    "(they won't be identical, but not highly dissimilar either)"
   ]
  },
  {
   "cell_type": "code",
   "execution_count": 97,
   "metadata": {},
   "outputs": [
    {
     "data": {
      "text/plain": [
       "array([[-0.39189189],\n",
       "       [ 4.16216216]])"
      ]
     },
     "execution_count": 97,
     "metadata": {},
     "output_type": "execute_result"
    }
   ],
   "source": [
    "from numpy.linalg import inv\n",
    "from numpy import matmul as mm\n",
    "\n",
    "X = np.copy(features)\n",
    "X = np.append(X, np.ones(X.shape[0]).reshape(-1,1), axis=1)\n",
    "print\n",
    "\n",
    "w = mm(mm(inv(mm(X.T, X)), X.T), targets)\n",
    "w"
   ]
  },
  {
   "cell_type": "markdown",
   "metadata": {},
   "source": [
    "# Multi-period inventory problem"
   ]
  },
  {
   "cell_type": "markdown",
   "metadata": {},
   "source": [
    "balancing supply and stocks at time t, for given demand, such to minimise combined holding and order costs\n",
    "\n",
    "Some more thought needed to apply this to real life scenario - to properly account for in/out/stock costs etc\n",
    "\n",
    "E.g., in the example below\n",
    "Supply@t is the supply ordered beween t-1 and t\n",
    "demand@t is the demand between t-1 and t\n",
    "stocks@t is the outstanding stock at t\n",
    "\n",
    "where stock costs are simplified at stock@t x some charge"
   ]
  },
  {
   "cell_type": "code",
   "execution_count": 117,
   "metadata": {},
   "outputs": [
    {
     "name": "stdout",
     "output_type": "stream",
     "text": [
      "1\n",
      "2\n",
      "3\n",
      "inventory:\n",
      "MINIMIZE\n",
      "1*stock1 + 1*stock2 + 1*stock3 + 10*supply1 + 13*supply2 + 10*supply3 + 0\n",
      "SUBJECT TO\n",
      "_C1: stock1 - supply1 = 3\n",
      "\n",
      "_C2: - stock1 + stock2 - supply2 = -4\n",
      "\n",
      "_C3: - stock2 + stock3 - supply3 = -8\n",
      "\n",
      "VARIABLES\n",
      "0 <= stock1 Integer\n",
      "0 <= stock2 Integer\n",
      "0 <= stock3 Integer\n",
      "0 <= supply1 Integer\n",
      "0 <= supply2 Integer\n",
      "0 <= supply3 Integer\n",
      "\n",
      "status: 1, Optimal\n",
      "objective: 94.0\n",
      "stock1: 4.0\n",
      "stock2: 0.0\n",
      "stock3: 0.0\n",
      "supply1: 1.0\n",
      "supply2: 0.0\n",
      "supply3: 8.0\n"
     ]
    }
   ],
   "source": [
    "# initial stock\n",
    "s0 = 8\n",
    "\n",
    "# Data at times t\n",
    "stock = [s0]\n",
    "\n",
    "# add zeros for initial values\n",
    "demand = [0, 5, 4, 8]  # per item demand\n",
    "holding_costs = [0, 1, 1, 1]  # costs per item\n",
    "order_costs = [0, 10, 13, 10] # costs per item\n",
    "supply = [0]\n",
    "\n",
    "# create the model\n",
    "model = LpProblem(name=\"inventory\", sense=LpMinimize)\n",
    "\n",
    "# Initialize the decision variables\n",
    "\n",
    "# how much stock and incoming supply at time t\n",
    "for t in range(1, len(demand)+1):\n",
    "    stock.append(LpVariable(name=f\"stock{t}\", lowBound=0, cat=LpInteger))\n",
    "    supply.append(LpVariable(name=f\"supply{t}\", lowBound=0, cat=LpInteger))\n",
    "\n",
    "# constraints:\n",
    "# stock@t = stock@t-1 + supply@t - demand@t\n",
    "for t in range(1, len(demand)):\n",
    "    print(t)\n",
    "    model += (stock[t] == stock[t-1] + supply[t] - demand[t])\n",
    "\n",
    "# objectives\n",
    "model += sum([s*c for s, c in zip(stock, holding_costs)]) + [s*c for s, c in zip(supply, order_costs)]\n",
    "\n",
    "print(model)\n",
    "\n",
    "# solve\n",
    "model.solve()\n",
    "print(f\"status: {model.status}, {LpStatus[model.status]}\")\n",
    "print(f\"objective: {model.objective.value()}\")\n",
    "for var in model.variables():\n",
    "    print(f\"{var.name}: {var.value()}\")\n",
    "# for name, constraint in model.constraints.items():\n",
    "#     print(f\"{name}: {constraint.value()}\"]"
   ]
  },
  {
   "cell_type": "code",
   "execution_count": null,
   "metadata": {},
   "outputs": [],
   "source": []
  }
 ],
 "metadata": {
  "kernelspec": {
   "display_name": "Python 3",
   "language": "python",
   "name": "python3"
  },
  "language_info": {
   "codemirror_mode": {
    "name": "ipython",
    "version": 3
   },
   "file_extension": ".py",
   "mimetype": "text/x-python",
   "name": "python",
   "nbconvert_exporter": "python",
   "pygments_lexer": "ipython3",
   "version": "3.8.5"
  }
 },
 "nbformat": 4,
 "nbformat_minor": 2
}
