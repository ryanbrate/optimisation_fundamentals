{
 "cells": [
  {
   "cell_type": "code",
   "execution_count": 1,
   "metadata": {},
   "outputs": [
    {
     "data": {
      "application/javascript": [
       "\n",
       "IPython.keyboard_manager.command_shortcuts.add_shortcut('g', {\n",
       "    handler : function (event) {\n",
       "        var input = IPython.notebook.get_selected_cell().get_text();\n",
       "        var cmd = \"f = open('.toto.py', 'w');f.close()\";\n",
       "        if (input != \"\") {\n",
       "            cmd = '%%writefile .toto.py\\n' + input;\n",
       "        }\n",
       "        IPython.notebook.kernel.execute(cmd);\n",
       "        cmd = \"import os;os.system('gvim .toto.py')\";\n",
       "        IPython.notebook.kernel.execute(cmd);\n",
       "        return false;\n",
       "    }}\n",
       ");\n",
       "\n",
       "IPython.keyboard_manager.command_shortcuts.add_shortcut('u', {\n",
       "    handler : function (event) {\n",
       "        function handle_output(msg) {\n",
       "            var ret = msg.content.text;\n",
       "            IPython.notebook.get_selected_cell().set_text(ret);\n",
       "        }\n",
       "        var callback = {'output': handle_output};\n",
       "        var cmd = \"f = open('.toto.py', 'r');print(f.read())\";\n",
       "        IPython.notebook.kernel.execute(cmd, {iopub: callback}, {silent: false});\n",
       "        return false;\n",
       "    }}\n",
       ");\n",
       "        "
      ],
      "text/plain": [
       "<IPython.core.display.Javascript object>"
      ]
     },
     "metadata": {},
     "output_type": "display_data"
    },
    {
     "name": "stdout",
     "output_type": "stream",
     "text": [
      "Cell contents can now be edited via Gvim. From command mode use 'g' to open current cell contents in Gvim. After ':wq' from Gvim, use 'u' in command mode to update cell contents.\n"
     ]
    }
   ],
   "source": [
    "%gvim"
   ]
  },
  {
   "cell_type": "markdown",
   "metadata": {},
   "source": [
    "# Monte Carlo examples"
   ]
  },
  {
   "cell_type": "markdown",
   "metadata": {},
   "source": [
    "## Ex 5.1/5.2 from Ger Koole"
   ]
  },
  {
   "cell_type": "markdown",
   "metadata": {},
   "source": [
    "e.g., two parallel activities, x1 and x2, followed by x3\n",
    "x1, x2, x3 correspond to a uniform(0,2) distribution\n",
    "\n",
    "What is the expected completion time?"
   ]
  },
  {
   "cell_type": "code",
   "execution_count": 89,
   "metadata": {},
   "outputs": [
    {
     "data": {
      "text/plain": [
       "20.639031904845854"
      ]
     },
     "execution_count": 89,
     "metadata": {},
     "output_type": "execute_result"
    }
   ],
   "source": [
    "from numpy import maximum\n",
    "from numpy.random import uniform\n",
    "import statistics as st\n",
    "import math\n",
    "import numpy as np\n",
    "\n",
    "n = 10000\n",
    "x1 = lognormal(0,2,n)\n",
    "x2 = lognormal(0,2,n)\n",
    "x3 = lognormal(0,2,n)\n",
    "\n",
    "simulations = maximum(x1, x2)+x3\n",
    "st.mean(simulations)\n",
    "# i.e., the mean of max(x1, x2) + x3, for 10000 runs, sampling x1, x2, x3 from their distributions"
   ]
  },
  {
   "cell_type": "markdown",
   "metadata": {},
   "source": [
    "what is the 95% confidence interval"
   ]
  },
  {
   "cell_type": "code",
   "execution_count": 90,
   "metadata": {},
   "outputs": [
    {
     "name": "stdout",
     "output_type": "stream",
     "text": [
      "19.073769107397013 22.204294702294696\n"
     ]
    }
   ],
   "source": [
    "p = st.mean(simulations)  # point estimate\n",
    "s = st.stdev(simulations)\n",
    "error_margin = 2*s/math.sqrt(n)\n",
    "print(p - error_margin, p + error_margin)"
   ]
  },
  {
   "cell_type": "markdown",
   "metadata": {},
   "source": [
    "## Ex 5.3 "
   ]
  },
  {
   "cell_type": "markdown",
   "metadata": {},
   "source": [
    "find the expected value"
   ]
  },
  {
   "cell_type": "code",
   "execution_count": 107,
   "metadata": {},
   "outputs": [
    {
     "data": {
      "text/plain": [
       "101018.5374718099"
      ]
     },
     "execution_count": 107,
     "metadata": {},
     "output_type": "execute_result"
    }
   ],
   "source": [
    "import math\n",
    "import statistics as st\n",
    "\n",
    "from numpy import maximum\n",
    "from numpy.random import normal\n",
    "\n",
    "n = 10000\n",
    "sales = normal(10000, 1000, n)\n",
    "price = normal(100, 20, n)\n",
    "variable_costs = normal(80, 10, n)\n",
    "fixed_costs = normal(100000, 20000,n )\n",
    "\n",
    "simulations = sales*(price - variable_costs) - fixed_costs\n",
    "\n",
    "p = st.mean(simulations)  # estimate of expected value\n",
    "p"
   ]
  },
  {
   "cell_type": "markdown",
   "metadata": {},
   "source": [
    "## Estimate the 95% CI"
   ]
  },
  {
   "cell_type": "code",
   "execution_count": 105,
   "metadata": {},
   "outputs": [
    {
     "data": {
      "text/plain": [
       "array([ 4546.93807515, -4546.26607515])"
      ]
     },
     "execution_count": 105,
     "metadata": {},
     "output_type": "execute_result"
    }
   ],
   "source": [
    "import statistics as st\n",
    "\n",
    "s = st.stdev(simulations)\n",
    "CI = np.array([2*s/math.sqrt(n), -2*s/math.sqrt(n)]) + p\n",
    "CI"
   ]
  },
  {
   "cell_type": "markdown",
   "metadata": {},
   "source": [
    "## Find the probability of a loss"
   ]
  },
  {
   "cell_type": "code",
   "execution_count": 111,
   "metadata": {},
   "outputs": [
    {
     "data": {
      "text/plain": [
       "0.3297"
      ]
     },
     "execution_count": 111,
     "metadata": {},
     "output_type": "execute_result"
    }
   ],
   "source": [
    "# we known from normal distribution theory, that Ex(a+b) = Ex(a) + Ex(b)\n",
    "# thus the true expected profit is 10,000*(100 - 80) - 100,000 = 100,000\n",
    "\n",
    "p = len(list(filter(lambda s: s<0, simulations)))/len(simulations)  # point estimate of proportion of outcomes with less than 0 profit\n",
    "p"
   ]
  },
  {
   "cell_type": "markdown",
   "metadata": {},
   "source": [
    "## find the CI of the probability of a loss"
   ]
  },
  {
   "cell_type": "code",
   "execution_count": 112,
   "metadata": {},
   "outputs": [
    {
     "data": {
      "text/plain": [
       "array([0.33910208, 0.32029792])"
      ]
     },
     "execution_count": 112,
     "metadata": {},
     "output_type": "execute_result"
    }
   ],
   "source": [
    "s = math.sqrt(p*(1-p)/n) # sampling distribution s\n",
    "CI = np.array([2*s, -2*s]) + p \n",
    "CI"
   ]
  },
  {
   "cell_type": "code",
   "execution_count": null,
   "metadata": {},
   "outputs": [],
   "source": []
  }
 ],
 "metadata": {
  "kernelspec": {
   "display_name": "Python 3",
   "language": "python",
   "name": "python3"
  },
  "language_info": {
   "codemirror_mode": {
    "name": "ipython",
    "version": 3
   },
   "file_extension": ".py",
   "mimetype": "text/x-python",
   "name": "python",
   "nbconvert_exporter": "python",
   "pygments_lexer": "ipython3",
   "version": "3.8.2"
  }
 },
 "nbformat": 4,
 "nbformat_minor": 2
}
